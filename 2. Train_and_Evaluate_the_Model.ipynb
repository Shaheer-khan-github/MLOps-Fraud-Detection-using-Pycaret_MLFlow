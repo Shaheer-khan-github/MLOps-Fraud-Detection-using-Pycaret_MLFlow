{
 "cells": [
  {
   "cell_type": "code",
   "execution_count": 9,
   "metadata": {},
   "outputs": [],
   "source": [
    "import pandas as pd\n",
    "from pycaret.classification import *\n",
    "from sklearn.model_selection import train_test_split\n",
    "import os\n",
    "from sklearn.metrics import average_precision_score\n",
    "from model_utils import *"
   ]
  },
  {
   "cell_type": "code",
   "execution_count": 11,
   "metadata": {},
   "outputs": [],
   "source": [
    "mlflow.set_tracking_uri(\"http://localhost:5000\")"
   ]
  },
  {
   "cell_type": "code",
   "execution_count": 12,
   "metadata": {},
   "outputs": [
    {
     "data": {
      "text/html": [
       "<style type=\"text/css\">\n",
       "#T_26cd7 th {\n",
       "  text-align: left;\n",
       "}\n",
       "#T_26cd7_row0_col0, #T_26cd7_row0_col3, #T_26cd7_row1_col0, #T_26cd7_row1_col1, #T_26cd7_row1_col2, #T_26cd7_row1_col3, #T_26cd7_row1_col4, #T_26cd7_row1_col5, #T_26cd7_row1_col6, #T_26cd7_row1_col7, #T_26cd7_row1_col8, #T_26cd7_row2_col0, #T_26cd7_row2_col1, #T_26cd7_row2_col2, #T_26cd7_row2_col4, #T_26cd7_row2_col5, #T_26cd7_row2_col6, #T_26cd7_row2_col7, #T_26cd7_row2_col8, #T_26cd7_row3_col0, #T_26cd7_row3_col1, #T_26cd7_row3_col2, #T_26cd7_row3_col3, #T_26cd7_row3_col4, #T_26cd7_row3_col5, #T_26cd7_row3_col6, #T_26cd7_row3_col7, #T_26cd7_row3_col8, #T_26cd7_row4_col0, #T_26cd7_row4_col1, #T_26cd7_row4_col2, #T_26cd7_row4_col3, #T_26cd7_row4_col4, #T_26cd7_row4_col5, #T_26cd7_row4_col6, #T_26cd7_row4_col7, #T_26cd7_row4_col8 {\n",
       "  text-align: left;\n",
       "}\n",
       "#T_26cd7_row0_col1, #T_26cd7_row0_col2, #T_26cd7_row0_col4, #T_26cd7_row0_col5, #T_26cd7_row0_col6, #T_26cd7_row0_col7, #T_26cd7_row0_col8, #T_26cd7_row2_col3 {\n",
       "  text-align: left;\n",
       "  background-color: yellow;\n",
       "}\n",
       "#T_26cd7_row0_col9, #T_26cd7_row1_col9, #T_26cd7_row3_col9, #T_26cd7_row4_col9 {\n",
       "  text-align: left;\n",
       "  background-color: lightgrey;\n",
       "}\n",
       "#T_26cd7_row2_col9 {\n",
       "  text-align: left;\n",
       "  background-color: yellow;\n",
       "  background-color: lightgrey;\n",
       "}\n",
       "</style>\n",
       "<table id=\"T_26cd7\">\n",
       "  <thead>\n",
       "    <tr>\n",
       "      <th class=\"blank level0\" >&nbsp;</th>\n",
       "      <th id=\"T_26cd7_level0_col0\" class=\"col_heading level0 col0\" >Model</th>\n",
       "      <th id=\"T_26cd7_level0_col1\" class=\"col_heading level0 col1\" >Accuracy</th>\n",
       "      <th id=\"T_26cd7_level0_col2\" class=\"col_heading level0 col2\" >AUC</th>\n",
       "      <th id=\"T_26cd7_level0_col3\" class=\"col_heading level0 col3\" >Recall</th>\n",
       "      <th id=\"T_26cd7_level0_col4\" class=\"col_heading level0 col4\" >Prec.</th>\n",
       "      <th id=\"T_26cd7_level0_col5\" class=\"col_heading level0 col5\" >F1</th>\n",
       "      <th id=\"T_26cd7_level0_col6\" class=\"col_heading level0 col6\" >Kappa</th>\n",
       "      <th id=\"T_26cd7_level0_col7\" class=\"col_heading level0 col7\" >MCC</th>\n",
       "      <th id=\"T_26cd7_level0_col8\" class=\"col_heading level0 col8\" >APC</th>\n",
       "      <th id=\"T_26cd7_level0_col9\" class=\"col_heading level0 col9\" >TT (Sec)</th>\n",
       "    </tr>\n",
       "  </thead>\n",
       "  <tbody>\n",
       "    <tr>\n",
       "      <th id=\"T_26cd7_level0_row0\" class=\"row_heading level0 row0\" >et</th>\n",
       "      <td id=\"T_26cd7_row0_col0\" class=\"data row0 col0\" >Extra Trees Classifier</td>\n",
       "      <td id=\"T_26cd7_row0_col1\" class=\"data row0 col1\" >0.9744</td>\n",
       "      <td id=\"T_26cd7_row0_col2\" class=\"data row0 col2\" >0.9749</td>\n",
       "      <td id=\"T_26cd7_row0_col3\" class=\"data row0 col3\" >0.8458</td>\n",
       "      <td id=\"T_26cd7_row0_col4\" class=\"data row0 col4\" >0.9811</td>\n",
       "      <td id=\"T_26cd7_row0_col5\" class=\"data row0 col5\" >0.9073</td>\n",
       "      <td id=\"T_26cd7_row0_col6\" class=\"data row0 col6\" >0.8926</td>\n",
       "      <td id=\"T_26cd7_row0_col7\" class=\"data row0 col7\" >0.8966</td>\n",
       "      <td id=\"T_26cd7_row0_col8\" class=\"data row0 col8\" >0.9445</td>\n",
       "      <td id=\"T_26cd7_row0_col9\" class=\"data row0 col9\" >0.3080</td>\n",
       "    </tr>\n",
       "    <tr>\n",
       "      <th id=\"T_26cd7_level0_row1\" class=\"row_heading level0 row1\" >rf</th>\n",
       "      <td id=\"T_26cd7_row1_col0\" class=\"data row1 col0\" >Random Forest Classifier</td>\n",
       "      <td id=\"T_26cd7_row1_col1\" class=\"data row1 col1\" >0.9738</td>\n",
       "      <td id=\"T_26cd7_row1_col2\" class=\"data row1 col2\" >0.9746</td>\n",
       "      <td id=\"T_26cd7_row1_col3\" class=\"data row1 col3\" >0.8583</td>\n",
       "      <td id=\"T_26cd7_row1_col4\" class=\"data row1 col4\" >0.9639</td>\n",
       "      <td id=\"T_26cd7_row1_col5\" class=\"data row1 col5\" >0.9062</td>\n",
       "      <td id=\"T_26cd7_row1_col6\" class=\"data row1 col6\" >0.8910</td>\n",
       "      <td id=\"T_26cd7_row1_col7\" class=\"data row1 col7\" >0.8943</td>\n",
       "      <td id=\"T_26cd7_row1_col8\" class=\"data row1 col8\" >0.9427</td>\n",
       "      <td id=\"T_26cd7_row1_col9\" class=\"data row1 col9\" >0.5430</td>\n",
       "    </tr>\n",
       "    <tr>\n",
       "      <th id=\"T_26cd7_level0_row2\" class=\"row_heading level0 row2\" >lr</th>\n",
       "      <td id=\"T_26cd7_row2_col0\" class=\"data row2 col0\" >Logistic Regression</td>\n",
       "      <td id=\"T_26cd7_row2_col1\" class=\"data row2 col1\" >0.9508</td>\n",
       "      <td id=\"T_26cd7_row2_col2\" class=\"data row2 col2\" >0.9699</td>\n",
       "      <td id=\"T_26cd7_row2_col3\" class=\"data row2 col3\" >0.9016</td>\n",
       "      <td id=\"T_26cd7_row2_col4\" class=\"data row2 col4\" >0.8015</td>\n",
       "      <td id=\"T_26cd7_row2_col5\" class=\"data row2 col5\" >0.8472</td>\n",
       "      <td id=\"T_26cd7_row2_col6\" class=\"data row2 col6\" >0.8181</td>\n",
       "      <td id=\"T_26cd7_row2_col7\" class=\"data row2 col7\" >0.8211</td>\n",
       "      <td id=\"T_26cd7_row2_col8\" class=\"data row2 col8\" >0.9417</td>\n",
       "      <td id=\"T_26cd7_row2_col9\" class=\"data row2 col9\" >0.0640</td>\n",
       "    </tr>\n",
       "    <tr>\n",
       "      <th id=\"T_26cd7_level0_row3\" class=\"row_heading level0 row3\" >lightgbm</th>\n",
       "      <td id=\"T_26cd7_row3_col0\" class=\"data row3 col0\" >Light Gradient Boosting Machine</td>\n",
       "      <td id=\"T_26cd7_row3_col1\" class=\"data row3 col1\" >0.9674</td>\n",
       "      <td id=\"T_26cd7_row3_col2\" class=\"data row3 col2\" >0.9723</td>\n",
       "      <td id=\"T_26cd7_row3_col3\" class=\"data row3 col3\" >0.8585</td>\n",
       "      <td id=\"T_26cd7_row3_col4\" class=\"data row3 col4\" >0.9213</td>\n",
       "      <td id=\"T_26cd7_row3_col5\" class=\"data row3 col5\" >0.8871</td>\n",
       "      <td id=\"T_26cd7_row3_col6\" class=\"data row3 col6\" >0.8681</td>\n",
       "      <td id=\"T_26cd7_row3_col7\" class=\"data row3 col7\" >0.8699</td>\n",
       "      <td id=\"T_26cd7_row3_col8\" class=\"data row3 col8\" >0.9416</td>\n",
       "      <td id=\"T_26cd7_row3_col9\" class=\"data row3 col9\" >1.7660</td>\n",
       "    </tr>\n",
       "    <tr>\n",
       "      <th id=\"T_26cd7_level0_row4\" class=\"row_heading level0 row4\" >gbc</th>\n",
       "      <td id=\"T_26cd7_row4_col0\" class=\"data row4 col0\" >Gradient Boosting Classifier</td>\n",
       "      <td id=\"T_26cd7_row4_col1\" class=\"data row4 col1\" >0.9629</td>\n",
       "      <td id=\"T_26cd7_row4_col2\" class=\"data row4 col2\" >0.9699</td>\n",
       "      <td id=\"T_26cd7_row4_col3\" class=\"data row4 col3\" >0.8714</td>\n",
       "      <td id=\"T_26cd7_row4_col4\" class=\"data row4 col4\" >0.8850</td>\n",
       "      <td id=\"T_26cd7_row4_col5\" class=\"data row4 col5\" >0.8761</td>\n",
       "      <td id=\"T_26cd7_row4_col6\" class=\"data row4 col6\" >0.8544</td>\n",
       "      <td id=\"T_26cd7_row4_col7\" class=\"data row4 col7\" >0.8558</td>\n",
       "      <td id=\"T_26cd7_row4_col8\" class=\"data row4 col8\" >0.9399</td>\n",
       "      <td id=\"T_26cd7_row4_col9\" class=\"data row4 col9\" >1.9560</td>\n",
       "    </tr>\n",
       "  </tbody>\n",
       "</table>\n"
      ],
      "text/plain": [
       "<pandas.io.formats.style.Styler at 0x26d1fc40f40>"
      ]
     },
     "metadata": {},
     "output_type": "display_data"
    }
   ],
   "source": [
    "df_train, df_test = get_raw_data()\n",
    "clf1 = setup(data = df_train, \n",
    "             target = 'target',\n",
    "             silent=True,\n",
    "             log_experiment = True,\n",
    "             use_gpu=False,\n",
    "             experiment_name = 'selected_model',\n",
    "             fix_imbalance = True, \n",
    "             transformation = True, \n",
    "             polynomial_features = True,\n",
    "            )\n",
    "add_metric('apc', 'APC', average_precision_score, target = 'pred_proba')\n",
    "best = compare_models(sort=\"APC\", \n",
    "                      include=[\"lightgbm\", \"et\", \"rf\", \"lr\", \"gbc\"],\n",
    "                     probability_threshold=0.5)"
   ]
  },
  {
   "cell_type": "code",
   "execution_count": 13,
   "metadata": {},
   "outputs": [
    {
     "data": {
      "application/vnd.jupyter.widget-view+json": {
       "model_id": "314da808d05848019912e8f56905f8ef",
       "version_major": 2,
       "version_minor": 0
      },
      "text/plain": [
       "interactive(children=(ToggleButtons(description='Plot Type:', icons=('',), options=(('Hyperparameters', 'param…"
      ]
     },
     "metadata": {},
     "output_type": "display_data"
    }
   ],
   "source": [
    "evaluate_model(best)"
   ]
  },
  {
   "cell_type": "code",
   "execution_count": 14,
   "metadata": {},
   "outputs": [
    {
     "data": {
      "image/png": "[encoded data removed]",
      "text/plain": [
       "<Figure size 800x550 with 1 Axes>"
      ]
     },
     "metadata": {},
     "output_type": "display_data"
    }
   ],
   "source": [
    "plot_model(best, plot = 'pr')"
   ]
  },
  {
   "cell_type": "code",
   "execution_count": null,
   "metadata": {},
   "outputs": [],
   "source": []
  }
 ],
 "metadata": {
  "kernelspec": {
   "display_name": "Python 3",
   "language": "python",
   "name": "python3"
  },
  "language_info": {
   "codemirror_mode": {
    "name": "ipython",
    "version": 3
   },
   "file_extension": ".py",
   "mimetype": "text/x-python",
   "name": "python",
   "nbconvert_exporter": "python",
   "pygments_lexer": "ipython3",
   "version": "3.8.6"
  },
  "orig_nbformat": 4
 },
 "nbformat": 4,
 "nbformat_minor": 2
}
