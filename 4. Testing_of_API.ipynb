{
 "cells": [
  {
   "attachments": {},
   "cell_type": "markdown",
   "metadata": {},
   "source": [
    "#### Packages"
   ]
  },
  {
   "cell_type": "code",
   "execution_count": null,
   "metadata": {},
   "outputs": [],
   "source": [
    "import json\n",
    "import requests\n",
    "from model_utils import *"
   ]
  },
  {
   "attachments": {},
   "cell_type": "markdown",
   "metadata": {},
   "source": [
    "#### Import data"
   ]
  },
  {
   "cell_type": "code",
   "execution_count": 1,
   "metadata": {},
   "outputs": [],
   "source": [
    "df_train, df_test = get_raw_data()"
   ]
  },
  {
   "cell_type": "code",
   "execution_count": 3,
   "metadata": {},
   "outputs": [
    {
     "name": "stdout",
     "output_type": "stream",
     "text": [
      "pycaret version:  2.3.10\n"
     ]
    }
   ],
   "source": [
    "# check pycaret version\n",
    "print('pycaret version: ', pycaret.__version__) "
   ]
  },
  {
   "cell_type": "code",
   "execution_count": 4,
   "metadata": {},
   "outputs": [
    {
     "data": {
      "text/plain": [
       "0    932\n",
       "1    171\n",
       "Name: target, dtype: int64"
      ]
     },
     "execution_count": 4,
     "metadata": {},
     "output_type": "execute_result"
    }
   ],
   "source": [
    "df_test.target.value_counts()"
   ]
  },
  {
   "attachments": {},
   "cell_type": "markdown",
   "metadata": {},
   "source": [
    "#### Docker"
   ]
  },
  {
   "cell_type": "code",
   "execution_count": 9,
   "metadata": {},
   "outputs": [
    {
     "name": "stdout",
     "output_type": "stream",
     "text": [
      "REPOSITORY               TAG       IMAGE ID       CREATED        SIZE\n",
      "fraud_voting_model_api   latest    a36def49a37e   8 days ago     2.19GB\n",
      "docker/getting-started   latest    3e4394f6b72f   3 months ago   47MB\n"
     ]
    }
   ],
   "source": [
    "# Docker image\n",
    "!docker images"
   ]
  },
  {
   "cell_type": "code",
   "execution_count": 10,
   "metadata": {},
   "outputs": [
    {
     "name": "stdout",
     "output_type": "stream",
     "text": [
      "fraud_voting_model_api\n"
     ]
    }
   ],
   "source": [
    "!docker start fraud_voting_model_api"
   ]
  },
  {
   "cell_type": "code",
   "execution_count": 11,
   "metadata": {},
   "outputs": [
    {
     "name": "stdout",
     "output_type": "stream",
     "text": [
      "CONTAINER ID   IMAGE                           COMMAND                  CREATED      STATUS         PORTS                    NAMES\n",
      "1140b98eb6e9   fraud_voting_model_api:latest   \"python fraud_voting…\"   8 days ago   Up 6 seconds   0.0.0.0:8000->8000/tcp   fraud_voting_model_api\n"
     ]
    }
   ],
   "source": [
    "# check the running containers\n",
    "!docker ps"
   ]
  },
  {
   "attachments": {},
   "cell_type": "markdown",
   "metadata": {},
   "source": [
    "#### API call"
   ]
  },
  {
   "cell_type": "code",
   "execution_count": 12,
   "metadata": {},
   "outputs": [
    {
     "data": {
      "text/plain": [
       "{'Time': 93823.0,\n",
       " 'V1': -3.8219388009,\n",
       " 'V2': 5.6672473091,\n",
       " 'V3': -9.2449634577,\n",
       " 'V4': 8.246146934,\n",
       " 'V5': -4.3682860866,\n",
       " 'V6': -3.4507345182,\n",
       " 'V7': -8.4273780293,\n",
       " 'V8': 2.3056085048,\n",
       " 'V9': -5.3380791839,\n",
       " 'V10': -12.0111608836,\n",
       " 'V11': 8.6212550814,\n",
       " 'V12': -18.6837146333,\n",
       " 'V13': -0.9620734284,\n",
       " 'V14': -15.2976561861,\n",
       " 'V15': -2.4141321234,\n",
       " 'V16': -12.1056022452,\n",
       " 'V17': -21.3381950868,\n",
       " 'V18': -8.0454357156,\n",
       " 'V19': 0.1560150328,\n",
       " 'V20': 1.1152468889,\n",
       " 'V21': 1.9905197051,\n",
       " 'V22': 0.0833533216,\n",
       " 'V23': -0.062263553,\n",
       " 'V24': 0.3901878021,\n",
       " 'V25': 0.3298838845,\n",
       " 'V26': 0.0980170826,\n",
       " 'V27': 1.869570163,\n",
       " 'V28': 1.0008495629,\n",
       " 'Amount': 75.86,\n",
       " 'target': 1.0}"
      ]
     },
     "execution_count": 12,
     "metadata": {},
     "output_type": "execute_result"
    }
   ],
   "source": [
    "params = json.loads(df_test.loc[df_test.target == 1].iloc[0].to_json())\n",
    "params"
   ]
  },
  {
   "cell_type": "code",
   "execution_count": null,
   "metadata": {},
   "outputs": [],
   "source": [
    "url = 'http://127.0.0.1:8000/predict'\n",
    "\n",
    "params = json.loads(df_test.loc[df_test.target == 1].iloc[0].to_json())\n",
    "response = requests.get(url, params).json()\n",
    "print(response)"
   ]
  }
 ],
 "metadata": {
  "kernelspec": {
   "display_name": "Python 3",
   "language": "python",
   "name": "python3"
  },
  "language_info": {
   "codemirror_mode": {
    "name": "ipython",
    "version": 3
   },
   "file_extension": ".py",
   "mimetype": "text/x-python",
   "name": "python",
   "nbconvert_exporter": "python",
   "pygments_lexer": "ipython3",
   "version": "3.8.6"
  },
  "orig_nbformat": 4,
  "vscode": {
   "interpreter": {
    "hash": "8d86fdd6e6a43d0f65d319308acfa97f1cbbfac2d47559687937a23cc158eaae"
   }
  }
 },
 "nbformat": 4,
 "nbformat_minor": 2
}
